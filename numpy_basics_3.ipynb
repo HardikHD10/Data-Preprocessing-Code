{
 "cells": [
  {
   "cell_type": "code",
   "execution_count": 3,
   "id": "b5c10d2f",
   "metadata": {},
   "outputs": [],
   "source": [
    "import numpy as np"
   ]
  },
  {
   "cell_type": "raw",
   "id": "01f46cdf",
   "metadata": {},
   "source": [
    "rand : (0,1)"
   ]
  },
  {
   "cell_type": "code",
   "execution_count": 4,
   "id": "24b2ae2a",
   "metadata": {},
   "outputs": [
    {
     "data": {
      "text/plain": [
       "array([[0.27781967, 0.47139994, 0.84011738],\n",
       "       [0.93688724, 0.55674057, 0.06608149],\n",
       "       [0.88336436, 0.32840229, 0.15258348]])"
      ]
     },
     "execution_count": 4,
     "metadata": {},
     "output_type": "execute_result"
    }
   ],
   "source": [
    "arr1 = np.random.rand(3,3)\n",
    "arr1"
   ]
  },
  {
   "cell_type": "raw",
   "id": "65ce1c92",
   "metadata": {},
   "source": [
    "randn : any random number"
   ]
  },
  {
   "cell_type": "code",
   "execution_count": 6,
   "id": "1f76998e",
   "metadata": {},
   "outputs": [
    {
     "data": {
      "text/plain": [
       "array([[ 1.57378969, -0.05946123,  0.23403635],\n",
       "       [ 0.85299913, -0.60966081,  0.35473297],\n",
       "       [ 0.61138595, -0.36827657,  0.25619374]])"
      ]
     },
     "execution_count": 6,
     "metadata": {},
     "output_type": "execute_result"
    }
   ],
   "source": [
    "arr2 = np.random.randn(3,3)\n",
    "arr2"
   ]
  },
  {
   "cell_type": "code",
   "execution_count": 9,
   "id": "fa90e615",
   "metadata": {},
   "outputs": [
    {
     "data": {
      "text/plain": [
       "37"
      ]
     },
     "execution_count": 9,
     "metadata": {},
     "output_type": "execute_result"
    }
   ],
   "source": [
    "arr3 = np.random.randint(1,100)\n",
    "arr3"
   ]
  },
  {
   "cell_type": "raw",
   "id": "275d8357",
   "metadata": {},
   "source": [
    "# Fancy Index"
   ]
  },
  {
   "cell_type": "code",
   "execution_count": 19,
   "id": "7471ce22",
   "metadata": {},
   "outputs": [
    {
     "data": {
      "text/plain": [
       "array([0.33767848, 0.14550304])"
      ]
     },
     "execution_count": 19,
     "metadata": {},
     "output_type": "execute_result"
    }
   ],
   "source": [
    "arr = np.random.rand(10,10)\n",
    "col = [2,4,5,6]\n",
    "row = [1,3,7,9]\n",
    "\n",
    "row = [1,4]\n",
    "col = [3,5]\n",
    "arr[row,col]"
   ]
  },
  {
   "cell_type": "code",
   "execution_count": null,
   "id": "167b854a",
   "metadata": {},
   "outputs": [],
   "source": [
    "# operations and functions on the array"
   ]
  },
  {
   "cell_type": "code",
   "execution_count": 40,
   "id": "d15e84de",
   "metadata": {},
   "outputs": [],
   "source": [
    "arr1 = np.random.randint(0,10,(4,4))\n",
    "arr2 = np.random.randint(0,10,(4,4))"
   ]
  },
  {
   "cell_type": "code",
   "execution_count": 41,
   "id": "e3383b10",
   "metadata": {},
   "outputs": [
    {
     "data": {
      "text/plain": [
       "array([[2, 7, 2, 5],\n",
       "       [0, 0, 3, 8],\n",
       "       [3, 4, 0, 8],\n",
       "       [1, 3, 8, 8]])"
      ]
     },
     "execution_count": 41,
     "metadata": {},
     "output_type": "execute_result"
    }
   ],
   "source": [
    "arr1"
   ]
  },
  {
   "cell_type": "code",
   "execution_count": 42,
   "id": "02d9d564",
   "metadata": {},
   "outputs": [
    {
     "data": {
      "text/plain": [
       "array([[7, 1, 6, 5],\n",
       "       [3, 6, 5, 5],\n",
       "       [7, 3, 5, 5],\n",
       "       [0, 4, 2, 2]])"
      ]
     },
     "execution_count": 42,
     "metadata": {},
     "output_type": "execute_result"
    }
   ],
   "source": [
    "arr2"
   ]
  },
  {
   "cell_type": "code",
   "execution_count": 43,
   "id": "50b8d432",
   "metadata": {},
   "outputs": [
    {
     "data": {
      "text/plain": [
       "array([[ 9,  8,  8, 10],\n",
       "       [ 3,  6,  8, 13],\n",
       "       [10,  7,  5, 13],\n",
       "       [ 1,  7, 10, 10]])"
      ]
     },
     "execution_count": 43,
     "metadata": {},
     "output_type": "execute_result"
    }
   ],
   "source": [
    "arr1+arr2"
   ]
  },
  {
   "cell_type": "code",
   "execution_count": 44,
   "id": "45f9b0ac",
   "metadata": {},
   "outputs": [
    {
     "data": {
      "text/plain": [
       "array([[14,  7, 12, 25],\n",
       "       [ 0,  0, 15, 40],\n",
       "       [21, 12,  0, 40],\n",
       "       [ 0, 12, 16, 16]])"
      ]
     },
     "execution_count": 44,
     "metadata": {},
     "output_type": "execute_result"
    }
   ],
   "source": [
    "arr1*arr2"
   ]
  },
  {
   "cell_type": "code",
   "execution_count": 45,
   "id": "a8128adf",
   "metadata": {},
   "outputs": [
    {
     "data": {
      "text/plain": [
       "array([[-5,  6, -4,  0],\n",
       "       [-3, -6, -2,  3],\n",
       "       [-4,  1, -5,  3],\n",
       "       [ 1, -1,  6,  6]])"
      ]
     },
     "execution_count": 45,
     "metadata": {},
     "output_type": "execute_result"
    }
   ],
   "source": [
    "arr1-arr2"
   ]
  },
  {
   "cell_type": "code",
   "execution_count": 46,
   "id": "ed87b11d",
   "metadata": {
    "scrolled": true
   },
   "outputs": [
    {
     "data": {
      "text/plain": [
       "array([[49, 70, 67, 65],\n",
       "       [21, 41, 31, 31],\n",
       "       [33, 59, 54, 51],\n",
       "       [72, 75, 77, 76]])"
      ]
     },
     "execution_count": 46,
     "metadata": {},
     "output_type": "execute_result"
    }
   ],
   "source": [
    "np.dot(arr1,arr2)"
   ]
  },
  {
   "cell_type": "code",
   "execution_count": 47,
   "id": "bd4c40d6",
   "metadata": {},
   "outputs": [
    {
     "data": {
      "text/plain": [
       "array([[2, 7, 2, 5],\n",
       "       [0, 0, 3, 8],\n",
       "       [3, 4, 0, 8],\n",
       "       [1, 3, 8, 8]])"
      ]
     },
     "execution_count": 47,
     "metadata": {},
     "output_type": "execute_result"
    }
   ],
   "source": [
    "arr1"
   ]
  },
  {
   "cell_type": "code",
   "execution_count": 53,
   "id": "af5b9fac",
   "metadata": {},
   "outputs": [
    {
     "data": {
      "text/plain": [
       "array([16, 11, 15, 20])"
      ]
     },
     "execution_count": 53,
     "metadata": {},
     "output_type": "execute_result"
    }
   ],
   "source": [
    "arr1.sum(axis=1)"
   ]
  },
  {
   "cell_type": "code",
   "execution_count": 54,
   "id": "15aac3e0",
   "metadata": {},
   "outputs": [
    {
     "data": {
      "text/plain": [
       "0"
      ]
     },
     "execution_count": 54,
     "metadata": {},
     "output_type": "execute_result"
    }
   ],
   "source": [
    "arr1.prod()"
   ]
  },
  {
   "cell_type": "code",
   "execution_count": 55,
   "id": "b693a1d0",
   "metadata": {},
   "outputs": [
    {
     "data": {
      "text/plain": [
       "8"
      ]
     },
     "execution_count": 55,
     "metadata": {},
     "output_type": "execute_result"
    }
   ],
   "source": [
    "arr1.max()"
   ]
  },
  {
   "cell_type": "code",
   "execution_count": 56,
   "id": "4b6e9ea1",
   "metadata": {},
   "outputs": [
    {
     "data": {
      "text/plain": [
       "0"
      ]
     },
     "execution_count": 56,
     "metadata": {},
     "output_type": "execute_result"
    }
   ],
   "source": [
    "arr1.min()"
   ]
  },
  {
   "cell_type": "code",
   "execution_count": 57,
   "id": "13ef6e64",
   "metadata": {},
   "outputs": [
    {
     "data": {
      "text/plain": [
       "array([7, 8, 8, 8])"
      ]
     },
     "execution_count": 57,
     "metadata": {},
     "output_type": "execute_result"
    }
   ],
   "source": [
    "arr1.max(axis=1)"
   ]
  },
  {
   "cell_type": "code",
   "execution_count": 58,
   "id": "c3b102b9",
   "metadata": {},
   "outputs": [
    {
     "data": {
      "text/plain": [
       "3.875"
      ]
     },
     "execution_count": 58,
     "metadata": {},
     "output_type": "execute_result"
    }
   ],
   "source": [
    "arr1.mean()"
   ]
  },
  {
   "cell_type": "code",
   "execution_count": 59,
   "id": "f10eaba9",
   "metadata": {},
   "outputs": [
    {
     "data": {
      "text/plain": [
       "2.9764702249476644"
      ]
     },
     "execution_count": 59,
     "metadata": {},
     "output_type": "execute_result"
    }
   ],
   "source": [
    "arr1.std()"
   ]
  },
  {
   "cell_type": "code",
   "execution_count": 60,
   "id": "71098682",
   "metadata": {},
   "outputs": [
    {
     "data": {
      "text/plain": [
       "8.859375"
      ]
     },
     "execution_count": 60,
     "metadata": {},
     "output_type": "execute_result"
    }
   ],
   "source": [
    "arr1.var()"
   ]
  },
  {
   "cell_type": "code",
   "execution_count": 63,
   "id": "c48df9c2",
   "metadata": {},
   "outputs": [
    {
     "data": {
      "text/plain": [
       "3.0"
      ]
     },
     "execution_count": 63,
     "metadata": {},
     "output_type": "execute_result"
    }
   ],
   "source": [
    "np.median(arr1)"
   ]
  },
  {
   "cell_type": "code",
   "execution_count": 65,
   "id": "d3ebde2e",
   "metadata": {},
   "outputs": [
    {
     "data": {
      "text/plain": [
       "array([[8, 2, 7, 2],\n",
       "       [5, 0, 0, 3],\n",
       "       [8, 3, 4, 0],\n",
       "       [8, 1, 3, 8]])"
      ]
     },
     "execution_count": 65,
     "metadata": {},
     "output_type": "execute_result"
    }
   ],
   "source": [
    "np.roll(arr1,1)"
   ]
  },
  {
   "cell_type": "code",
   "execution_count": 66,
   "id": "71fee22c",
   "metadata": {},
   "outputs": [
    {
     "data": {
      "text/plain": [
       "4"
      ]
     },
     "execution_count": 66,
     "metadata": {},
     "output_type": "execute_result"
    }
   ],
   "source": [
    "arr1.argmin()"
   ]
  },
  {
   "cell_type": "code",
   "execution_count": 67,
   "id": "2849a577",
   "metadata": {},
   "outputs": [
    {
     "data": {
      "text/plain": [
       "7"
      ]
     },
     "execution_count": 67,
     "metadata": {},
     "output_type": "execute_result"
    }
   ],
   "source": [
    "arr1.argmax()"
   ]
  },
  {
   "cell_type": "code",
   "execution_count": 68,
   "id": "ac996fab",
   "metadata": {},
   "outputs": [
    {
     "data": {
      "text/plain": [
       "array([[2, 0, 3, 1],\n",
       "       [7, 0, 4, 3],\n",
       "       [2, 3, 0, 8],\n",
       "       [5, 8, 8, 8]])"
      ]
     },
     "execution_count": 68,
     "metadata": {},
     "output_type": "execute_result"
    }
   ],
   "source": [
    "arr1.transpose()"
   ]
  },
  {
   "cell_type": "code",
   "execution_count": 69,
   "id": "92151317",
   "metadata": {},
   "outputs": [
    {
     "data": {
      "text/plain": [
       "array([[ 0.90929743,  0.6569866 ,  0.90929743, -0.95892427],\n",
       "       [ 0.        ,  0.        ,  0.14112001,  0.98935825],\n",
       "       [ 0.14112001, -0.7568025 ,  0.        ,  0.98935825],\n",
       "       [ 0.84147098,  0.14112001,  0.98935825,  0.98935825]])"
      ]
     },
     "execution_count": 69,
     "metadata": {},
     "output_type": "execute_result"
    }
   ],
   "source": [
    "np.sin(arr1)"
   ]
  },
  {
   "cell_type": "code",
   "execution_count": 70,
   "id": "6ce06d91",
   "metadata": {},
   "outputs": [
    {
     "name": "stderr",
     "output_type": "stream",
     "text": [
      "/var/folders/7v/x2pmyc1s7ln14fx8_29btn3c0000gn/T/ipykernel_23142/893717680.py:1: RuntimeWarning: invalid value encountered in arcsin\n",
      "  np.arcsin(arr1)\n"
     ]
    },
    {
     "data": {
      "text/plain": [
       "array([[       nan,        nan,        nan,        nan],\n",
       "       [0.        , 0.        ,        nan,        nan],\n",
       "       [       nan,        nan, 0.        ,        nan],\n",
       "       [1.57079633,        nan,        nan,        nan]])"
      ]
     },
     "execution_count": 70,
     "metadata": {},
     "output_type": "execute_result"
    }
   ],
   "source": [
    "np.arcsin(arr1)"
   ]
  },
  {
   "cell_type": "code",
   "execution_count": 71,
   "id": "d55b2546",
   "metadata": {},
   "outputs": [
    {
     "data": {
      "text/plain": [
       "array([[2, 7, 2, 5],\n",
       "       [0, 0, 3, 8],\n",
       "       [3, 4, 0, 8],\n",
       "       [1, 3, 8, 8]])"
      ]
     },
     "execution_count": 71,
     "metadata": {},
     "output_type": "execute_result"
    }
   ],
   "source": [
    "arr1"
   ]
  },
  {
   "cell_type": "code",
   "execution_count": 72,
   "id": "52cedd96",
   "metadata": {},
   "outputs": [
    {
     "data": {
      "text/plain": [
       "array([[7.38905610e+00, 1.09663316e+03, 7.38905610e+00, 1.48413159e+02],\n",
       "       [1.00000000e+00, 1.00000000e+00, 2.00855369e+01, 2.98095799e+03],\n",
       "       [2.00855369e+01, 5.45981500e+01, 1.00000000e+00, 2.98095799e+03],\n",
       "       [2.71828183e+00, 2.00855369e+01, 2.98095799e+03, 2.98095799e+03]])"
      ]
     },
     "execution_count": 72,
     "metadata": {},
     "output_type": "execute_result"
    }
   ],
   "source": [
    "np.exp(arr1)"
   ]
  },
  {
   "cell_type": "code",
   "execution_count": 73,
   "id": "00c726dd",
   "metadata": {},
   "outputs": [
    {
     "data": {
      "text/plain": [
       "array([[  4., 128.,   4.,  32.],\n",
       "       [  1.,   1.,   8., 256.],\n",
       "       [  8.,  16.,   1., 256.],\n",
       "       [  2.,   8., 256., 256.]])"
      ]
     },
     "execution_count": 73,
     "metadata": {},
     "output_type": "execute_result"
    }
   ],
   "source": [
    "np.exp2(arr1)"
   ]
  },
  {
   "cell_type": "code",
   "execution_count": 74,
   "id": "4cbe8b6a",
   "metadata": {},
   "outputs": [
    {
     "data": {
      "text/plain": [
       "array([[   9, 2187,    9,  243],\n",
       "       [   1,    1,   27, 6561],\n",
       "       [  27,   81,    1, 6561],\n",
       "       [   3,   27, 6561, 6561]])"
      ]
     },
     "execution_count": 74,
     "metadata": {},
     "output_type": "execute_result"
    }
   ],
   "source": [
    "np.power(3,arr1)"
   ]
  },
  {
   "cell_type": "code",
   "execution_count": 75,
   "id": "5b2a9307",
   "metadata": {},
   "outputs": [
    {
     "name": "stderr",
     "output_type": "stream",
     "text": [
      "/var/folders/7v/x2pmyc1s7ln14fx8_29btn3c0000gn/T/ipykernel_23142/2108464003.py:1: RuntimeWarning: divide by zero encountered in log\n",
      "  np.log(arr1)\n"
     ]
    },
    {
     "data": {
      "text/plain": [
       "array([[0.69314718, 1.94591015, 0.69314718, 1.60943791],\n",
       "       [      -inf,       -inf, 1.09861229, 2.07944154],\n",
       "       [1.09861229, 1.38629436,       -inf, 2.07944154],\n",
       "       [0.        , 1.09861229, 2.07944154, 2.07944154]])"
      ]
     },
     "execution_count": 75,
     "metadata": {},
     "output_type": "execute_result"
    }
   ],
   "source": [
    "np.log(arr1)"
   ]
  },
  {
   "cell_type": "code",
   "execution_count": 77,
   "id": "b0aec15c",
   "metadata": {},
   "outputs": [
    {
     "name": "stderr",
     "output_type": "stream",
     "text": [
      "/var/folders/7v/x2pmyc1s7ln14fx8_29btn3c0000gn/T/ipykernel_23142/3085764489.py:1: RuntimeWarning: divide by zero encountered in log2\n",
      "  np.log2(arr1)\n"
     ]
    },
    {
     "data": {
      "text/plain": [
       "array([[1.        , 2.80735492, 1.        , 2.32192809],\n",
       "       [      -inf,       -inf, 1.5849625 , 3.        ],\n",
       "       [1.5849625 , 2.        ,       -inf, 3.        ],\n",
       "       [0.        , 1.5849625 , 3.        , 3.        ]])"
      ]
     },
     "execution_count": 77,
     "metadata": {},
     "output_type": "execute_result"
    }
   ],
   "source": [
    "np.log2(arr1)"
   ]
  },
  {
   "cell_type": "raw",
   "id": "40289ffe",
   "metadata": {},
   "source": [
    "Centering the array    "
   ]
  },
  {
   "cell_type": "code",
   "execution_count": 78,
   "id": "afdbe455",
   "metadata": {},
   "outputs": [
    {
     "data": {
      "text/plain": [
       "array([[-1.875,  3.125, -1.875,  1.125],\n",
       "       [-3.875, -3.875, -0.875,  4.125],\n",
       "       [-0.875,  0.125, -3.875,  4.125],\n",
       "       [-2.875, -0.875,  4.125,  4.125]])"
      ]
     },
     "execution_count": 78,
     "metadata": {},
     "output_type": "execute_result"
    }
   ],
   "source": [
    "arr1-arr1.mean()"
   ]
  },
  {
   "cell_type": "code",
   "execution_count": 79,
   "id": "900370b9",
   "metadata": {},
   "outputs": [
    {
     "data": {
      "text/plain": [
       "array([[2, 7, 2, 5],\n",
       "       [0, 0, 3, 8],\n",
       "       [3, 4, 0, 8],\n",
       "       [1, 3, 8, 8]])"
      ]
     },
     "execution_count": 79,
     "metadata": {},
     "output_type": "execute_result"
    }
   ],
   "source": [
    "arr1 "
   ]
  },
  {
   "cell_type": "code",
   "execution_count": 80,
   "id": "bf287fbc",
   "metadata": {},
   "outputs": [
    {
     "data": {
      "text/plain": [
       "array([[ 0.5 ,  3.5 , -1.25, -2.25],\n",
       "       [-1.5 , -3.5 , -0.25,  0.75],\n",
       "       [ 1.5 ,  0.5 , -3.25,  0.75],\n",
       "       [-0.5 , -0.5 ,  4.75,  0.75]])"
      ]
     },
     "execution_count": 80,
     "metadata": {},
     "output_type": "execute_result"
    }
   ],
   "source": [
    "arr1 - arr1.mean(axis=0)"
   ]
  },
  {
   "cell_type": "code",
   "execution_count": 81,
   "id": "6e039f50",
   "metadata": {
    "scrolled": true
   },
   "outputs": [
    {
     "name": "stdout",
     "output_type": "stream",
     "text": [
      "[[17  8 12  8 10 19]\n",
      " [ 0 15  4 10  4 18]\n",
      " [11  3  8  3  7  7]\n",
      " [13  2 15  1 17 13]\n",
      " [ 1  9  2 10  0  1]]\n"
     ]
    }
   ],
   "source": [
    "arr1=np.random.randint(0,20,(5,6))\n",
    "print(arr1)"
   ]
  },
  {
   "cell_type": "markdown",
   "id": "60cc085f",
   "metadata": {},
   "source": [
    "# masking operation"
   ]
  },
  {
   "cell_type": "code",
   "execution_count": 85,
   "id": "96ad032f",
   "metadata": {},
   "outputs": [
    {
     "data": {
      "text/plain": [
       "array([17,  8, 12,  8, 10, 19, 15, 10, 18, 11,  8,  7,  7, 13, 15, 17, 13,\n",
       "        9, 10])"
      ]
     },
     "execution_count": 85,
     "metadata": {},
     "output_type": "execute_result"
    }
   ],
   "source": [
    "arr1[arr1>5]"
   ]
  },
  {
   "cell_type": "code",
   "execution_count": 95,
   "id": "213d2db5",
   "metadata": {},
   "outputs": [],
   "source": [
    "a=np.array([2,3,45,5])\n",
    "b=np.array([2,3,45,5])"
   ]
  },
  {
   "cell_type": "code",
   "execution_count": 96,
   "id": "024b1836",
   "metadata": {},
   "outputs": [
    {
     "data": {
      "text/plain": [
       "array([ 2,  3, 45,  5])"
      ]
     },
     "execution_count": 96,
     "metadata": {},
     "output_type": "execute_result"
    }
   ],
   "source": [
    "b"
   ]
  },
  {
   "cell_type": "code",
   "execution_count": 97,
   "id": "c5f5fb58",
   "metadata": {},
   "outputs": [
    {
     "data": {
      "text/plain": [
       "array([ True,  True,  True,  True])"
      ]
     },
     "execution_count": 97,
     "metadata": {},
     "output_type": "execute_result"
    }
   ],
   "source": [
    "a==b"
   ]
  },
  {
   "cell_type": "code",
   "execution_count": 98,
   "id": "e8b88506",
   "metadata": {},
   "outputs": [
    {
     "data": {
      "text/plain": [
       "array([[17,  8, 12,  8, 10, 19],\n",
       "       [ 0, 15,  4, 10,  4, 18],\n",
       "       [11,  3,  8,  3,  7,  7],\n",
       "       [13,  2, 15,  1, 17, 13],\n",
       "       [ 1,  9,  2, 10,  0,  1]])"
      ]
     },
     "execution_count": 98,
     "metadata": {},
     "output_type": "execute_result"
    }
   ],
   "source": [
    "arr1"
   ]
  },
  {
   "cell_type": "code",
   "execution_count": 102,
   "id": "d92ebff6",
   "metadata": {},
   "outputs": [
    {
     "data": {
      "text/plain": [
       "array([6, 3, 4, 4, 2])"
      ]
     },
     "execution_count": 102,
     "metadata": {},
     "output_type": "execute_result"
    }
   ],
   "source": [
    "np.sum(arr1>5,axis=1)"
   ]
  },
  {
   "cell_type": "code",
   "execution_count": 103,
   "id": "29137d38",
   "metadata": {},
   "outputs": [
    {
     "data": {
      "text/plain": [
       "array([[ 8,  8, 10, 12, 17, 19],\n",
       "       [ 0,  4,  4, 10, 15, 18],\n",
       "       [ 3,  3,  7,  7,  8, 11],\n",
       "       [ 1,  2, 13, 13, 15, 17],\n",
       "       [ 0,  1,  1,  2,  9, 10]])"
      ]
     },
     "execution_count": 103,
     "metadata": {},
     "output_type": "execute_result"
    }
   ],
   "source": [
    "np.sort(arr1)"
   ]
  },
  {
   "cell_type": "raw",
   "id": "9ae3ef58",
   "metadata": {},
   "source": [
    "# 2"
   ]
  },
  {
   "cell_type": "code",
   "execution_count": 4,
   "id": "2f2472c2",
   "metadata": {},
   "outputs": [],
   "source": [
    "arr1 = np.random.randint(0,10,(4,5))"
   ]
  },
  {
   "cell_type": "code",
   "execution_count": 5,
   "id": "0a8e33b9",
   "metadata": {},
   "outputs": [
    {
     "data": {
      "text/plain": [
       "array([[9, 0, 0, 3, 2],\n",
       "       [1, 5, 8, 3, 3],\n",
       "       [2, 0, 1, 4, 9],\n",
       "       [5, 6, 7, 1, 2]])"
      ]
     },
     "execution_count": 5,
     "metadata": {},
     "output_type": "execute_result"
    }
   ],
   "source": [
    "arr1"
   ]
  },
  {
   "cell_type": "code",
   "execution_count": 32,
   "id": "e430d8a1",
   "metadata": {},
   "outputs": [
    {
     "data": {
      "text/plain": [
       "array([[5, 6, 7, 1, 2],\n",
       "       [2, 0, 1, 4, 9],\n",
       "       [1, 5, 8, 3, 3],\n",
       "       [9, 0, 0, 3, 2]])"
      ]
     },
     "execution_count": 32,
     "metadata": {},
     "output_type": "execute_result"
    }
   ],
   "source": [
    "arr1[]"
   ]
  },
  {
   "cell_type": "raw",
   "id": "92d1cdb2",
   "metadata": {},
   "source": [
    "# 3"
   ]
  },
  {
   "cell_type": "code",
   "execution_count": 27,
   "id": "8fadde87",
   "metadata": {},
   "outputs": [
    {
     "data": {
      "text/plain": [
       "array([6, 0, 5, 0])"
      ]
     },
     "execution_count": 27,
     "metadata": {},
     "output_type": "execute_result"
    }
   ],
   "source": [
    "arr1[::-1,1]"
   ]
  },
  {
   "cell_type": "code",
   "execution_count": null,
   "id": "1de8658f",
   "metadata": {},
   "outputs": [],
   "source": []
  },
  {
   "cell_type": "code",
   "execution_count": null,
   "id": "739f9730",
   "metadata": {},
   "outputs": [],
   "source": []
  },
  {
   "cell_type": "code",
   "execution_count": null,
   "id": "eb71f253",
   "metadata": {},
   "outputs": [],
   "source": []
  }
 ],
 "metadata": {
  "kernelspec": {
   "display_name": "Python 3 (ipykernel)",
   "language": "python",
   "name": "python3"
  },
  "language_info": {
   "codemirror_mode": {
    "name": "ipython",
    "version": 3
   },
   "file_extension": ".py",
   "mimetype": "text/x-python",
   "name": "python",
   "nbconvert_exporter": "python",
   "pygments_lexer": "ipython3",
   "version": "3.9.12"
  }
 },
 "nbformat": 4,
 "nbformat_minor": 5
}
