{
 "cells": [
  {
   "cell_type": "markdown",
   "id": "13f09c89",
   "metadata": {},
   "source": [
    "# Numpy"
   ]
  },
  {
   "cell_type": "code",
   "execution_count": 1,
   "id": "2f181eab",
   "metadata": {},
   "outputs": [],
   "source": [
    "a = 1,2,3"
   ]
  },
  {
   "cell_type": "code",
   "execution_count": 5,
   "id": "35724e56",
   "metadata": {
    "scrolled": true
   },
   "outputs": [
    {
     "name": "stdout",
     "output_type": "stream",
     "text": [
      "(1, 2, 3)\n",
      "<class 'tuple'>\n"
     ]
    }
   ],
   "source": [
    "print(a)\n",
    "print(type(a))"
   ]
  },
  {
   "cell_type": "code",
   "execution_count": 7,
   "id": "7ca5809a",
   "metadata": {},
   "outputs": [],
   "source": [
    "import numpy as np"
   ]
  },
  {
   "cell_type": "code",
   "execution_count": 8,
   "id": "f25c7d38",
   "metadata": {},
   "outputs": [
    {
     "name": "stdout",
     "output_type": "stream",
     "text": [
      "[2 3 4]\n"
     ]
    }
   ],
   "source": [
    "l = [2,3,4]\n",
    "arr1 = np.array(l)\n",
    "print(arr1)"
   ]
  },
  {
   "cell_type": "code",
   "execution_count": 11,
   "id": "ea9a95d7",
   "metadata": {},
   "outputs": [
    {
     "name": "stdout",
     "output_type": "stream",
     "text": [
      "[[ 1  2  3  4]\n",
      " [ 5  4  8  7]\n",
      " [10 11 12 13]]\n"
     ]
    }
   ],
   "source": [
    "j = [1,2,3,4],[5,4,8,7],[10,11,12,13]\n",
    "arr2 = np.array(j)\n",
    "print(arr2)"
   ]
  },
  {
   "cell_type": "code",
   "execution_count": 13,
   "id": "1a4b2d79",
   "metadata": {},
   "outputs": [
    {
     "name": "stdout",
     "output_type": "stream",
     "text": [
      "1\n",
      "(3,)\n"
     ]
    }
   ],
   "source": [
    "print(arr1.ndim)\n",
    "print(arr1.shape)"
   ]
  },
  {
   "cell_type": "code",
   "execution_count": 14,
   "id": "44dfa807",
   "metadata": {},
   "outputs": [
    {
     "name": "stdout",
     "output_type": "stream",
     "text": [
      "2\n",
      "(3, 4)\n"
     ]
    }
   ],
   "source": [
    "print(arr2.ndim)\n",
    "print(arr2.shape)"
   ]
  },
  {
   "cell_type": "code",
   "execution_count": 15,
   "id": "05f68a99",
   "metadata": {},
   "outputs": [
    {
     "data": {
      "text/plain": [
       "numpy.ndarray"
      ]
     },
     "execution_count": 15,
     "metadata": {},
     "output_type": "execute_result"
    }
   ],
   "source": [
    "type(arr1)\n",
    "type(arr2)"
   ]
  },
  {
   "cell_type": "code",
   "execution_count": 16,
   "id": "7d41c1d1",
   "metadata": {},
   "outputs": [
    {
     "name": "stdout",
     "output_type": "stream",
     "text": [
      "int64\n"
     ]
    }
   ],
   "source": [
    "print(arr1.dtype)"
   ]
  },
  {
   "cell_type": "code",
   "execution_count": 17,
   "id": "a74d37d7",
   "metadata": {},
   "outputs": [
    {
     "name": "stdout",
     "output_type": "stream",
     "text": [
      "int64\n"
     ]
    }
   ],
   "source": [
    "print(arr2.dtype)"
   ]
  },
  {
   "cell_type": "code",
   "execution_count": 20,
   "id": "fe96b288",
   "metadata": {},
   "outputs": [
    {
     "name": "stdout",
     "output_type": "stream",
     "text": [
      "['2' '3' '3.5' 'ac']\n"
     ]
    }
   ],
   "source": [
    "arr=np.array([2,3,3.5,'ac'])\n",
    "print(arr)"
   ]
  },
  {
   "cell_type": "code",
   "execution_count": 21,
   "id": "33ee71a1",
   "metadata": {},
   "outputs": [
    {
     "name": "stdout",
     "output_type": "stream",
     "text": [
      "<U32\n"
     ]
    }
   ],
   "source": [
    "print(arr.dtype)"
   ]
  },
  {
   "cell_type": "code",
   "execution_count": 26,
   "id": "3d45341b",
   "metadata": {},
   "outputs": [
    {
     "name": "stdout",
     "output_type": "stream",
     "text": [
      "['a' 'pdpu' 'r']\n",
      "<class 'numpy.ndarray'>\n",
      "<U4\n"
     ]
    }
   ],
   "source": [
    "arr=np.array(['a','pdpu','r'])\n",
    "print(arr)\n",
    "print(type(arr))\n",
    "print(arr.dtype)"
   ]
  },
  {
   "cell_type": "code",
   "execution_count": 25,
   "id": "33a8a145",
   "metadata": {},
   "outputs": [
    {
     "name": "stdout",
     "output_type": "stream",
     "text": [
      "['raja' 'pdpu' 'r']\n"
     ]
    }
   ],
   "source": [
    "arr[0]='rajat jain'\n",
    "print(arr)"
   ]
  },
  {
   "cell_type": "code",
   "execution_count": 29,
   "id": "a484e98a",
   "metadata": {},
   "outputs": [
    {
     "name": "stdout",
     "output_type": "stream",
     "text": [
      "['a' 'pdpu' 'r' '3']\n",
      "<class 'numpy.ndarray'>\n",
      "<U21\n"
     ]
    }
   ],
   "source": [
    "arr3=np.array(['a','pdpu','r',3])\n",
    "print(arr3)\n",
    "print(type(arr3))\n",
    "print(arr3.dtype)"
   ]
  },
  {
   "cell_type": "code",
   "execution_count": 30,
   "id": "80b1b02c",
   "metadata": {},
   "outputs": [
    {
     "name": "stdout",
     "output_type": "stream",
     "text": [
      "['rajat jain' 'pdpu' 'r' '3']\n"
     ]
    }
   ],
   "source": [
    "arr3[0]='rajat jain'\n",
    "print(arr3)"
   ]
  },
  {
   "cell_type": "raw",
   "id": "72543990",
   "metadata": {},
   "source": []
  },
  {
   "cell_type": "code",
   "execution_count": 38,
   "id": "5ebf7291",
   "metadata": {},
   "outputs": [
    {
     "data": {
      "text/plain": [
       "array([10,  3,  4])"
      ]
     },
     "execution_count": 38,
     "metadata": {},
     "output_type": "execute_result"
    }
   ],
   "source": [
    "arr1"
   ]
  },
  {
   "cell_type": "code",
   "execution_count": 41,
   "id": "edfb5964",
   "metadata": {},
   "outputs": [
    {
     "ename": "ValueError",
     "evalue": "invalid literal for int() with base 10: 'hello'",
     "output_type": "error",
     "traceback": [
      "\u001b[0;31m---------------------------------------------------------------------------\u001b[0m",
      "\u001b[0;31mValueError\u001b[0m                                Traceback (most recent call last)",
      "Input \u001b[0;32mIn [41]\u001b[0m, in \u001b[0;36m<cell line: 1>\u001b[0;34m()\u001b[0m\n\u001b[0;32m----> 1\u001b[0m arr1[\u001b[38;5;241m0\u001b[39m]\u001b[38;5;241m=\u001b[39m\u001b[38;5;124m\"\u001b[39m\u001b[38;5;124mhello\u001b[39m\u001b[38;5;124m\"\u001b[39m\n",
      "\u001b[0;31mValueError\u001b[0m: invalid literal for int() with base 10: 'hello'"
     ]
    }
   ],
   "source": [
    "arr1[0]=\"hello\""
   ]
  },
  {
   "cell_type": "code",
   "execution_count": 40,
   "id": "2c3d67ce",
   "metadata": {},
   "outputs": [
    {
     "name": "stdout",
     "output_type": "stream",
     "text": [
      "[10  3  4]\n"
     ]
    }
   ],
   "source": [
    "print(arr1)"
   ]
  },
  {
   "cell_type": "code",
   "execution_count": 36,
   "id": "941f9fe9",
   "metadata": {},
   "outputs": [
    {
     "name": "stdout",
     "output_type": "stream",
     "text": [
      "['a' 'ab' 'c']\n"
     ]
    }
   ],
   "source": [
    "arr=np.array(['a','ab','c'])\n",
    "print(arr)"
   ]
  },
  {
   "cell_type": "code",
   "execution_count": 37,
   "id": "828e3b42",
   "metadata": {},
   "outputs": [
    {
     "name": "stdout",
     "output_type": "stream",
     "text": [
      "['10' 'ab' 'c']\n"
     ]
    }
   ],
   "source": [
    "arr[0]=100\n",
    "print(arr)"
   ]
  },
  {
   "cell_type": "code",
   "execution_count": 44,
   "id": "a681801a",
   "metadata": {},
   "outputs": [
    {
     "data": {
      "text/plain": [
       "10"
      ]
     },
     "execution_count": 44,
     "metadata": {},
     "output_type": "execute_result"
    }
   ],
   "source": [
    "arr1[-3]"
   ]
  },
  {
   "cell_type": "code",
   "execution_count": 45,
   "id": "8332f9eb",
   "metadata": {},
   "outputs": [
    {
     "data": {
      "text/plain": [
       "array([[ 1,  2,  3,  4],\n",
       "       [ 5,  4,  8,  7],\n",
       "       [10, 11, 12, 13]])"
      ]
     },
     "execution_count": 45,
     "metadata": {},
     "output_type": "execute_result"
    }
   ],
   "source": [
    "arr2"
   ]
  },
  {
   "cell_type": "code",
   "execution_count": 47,
   "id": "6557e477",
   "metadata": {},
   "outputs": [
    {
     "name": "stdout",
     "output_type": "stream",
     "text": [
      "row 4\n"
     ]
    }
   ],
   "source": [
    "print(\"row\",arr2[0])"
   ]
  },
  {
   "cell_type": "code",
   "execution_count": 50,
   "id": "1edc549e",
   "metadata": {},
   "outputs": [
    {
     "name": "stdout",
     "output_type": "stream",
     "text": [
      "[1 2 3 4] is my first row \n"
     ]
    }
   ],
   "source": [
    "print(\"%s is my first row \"%arr2[0])"
   ]
  },
  {
   "cell_type": "code",
   "execution_count": 53,
   "id": "af034a3f",
   "metadata": {},
   "outputs": [
    {
     "name": "stdout",
     "output_type": "stream",
     "text": [
      "13\n"
     ]
    }
   ],
   "source": [
    "print(arr2[-1][-1])"
   ]
  },
  {
   "cell_type": "code",
   "execution_count": 54,
   "id": "5611c50b",
   "metadata": {},
   "outputs": [
    {
     "data": {
      "text/plain": [
       "array([[13, 12, 11, 10],\n",
       "       [ 7,  8,  4,  5],\n",
       "       [ 4,  3,  2,  1]])"
      ]
     },
     "execution_count": 54,
     "metadata": {},
     "output_type": "execute_result"
    }
   ],
   "source": [
    "arr2[::-1,::-1]"
   ]
  },
  {
   "cell_type": "markdown",
   "id": "3d20fb0e",
   "metadata": {},
   "source": [
    "Slicing"
   ]
  },
  {
   "cell_type": "code",
   "execution_count": 55,
   "id": "396896ec",
   "metadata": {},
   "outputs": [
    {
     "data": {
      "text/plain": [
       "array([10,  3,  4])"
      ]
     },
     "execution_count": 55,
     "metadata": {},
     "output_type": "execute_result"
    }
   ],
   "source": [
    "arr1"
   ]
  },
  {
   "cell_type": "code",
   "execution_count": 61,
   "id": "1702b318",
   "metadata": {},
   "outputs": [
    {
     "data": {
      "text/plain": [
       "array([3])"
      ]
     },
     "execution_count": 61,
     "metadata": {},
     "output_type": "execute_result"
    }
   ],
   "source": [
    "# a[start:end:stop]\n",
    "# a2[start:end:step,start:end:step]\n",
    "arr1[1:2]"
   ]
  },
  {
   "cell_type": "code",
   "execution_count": null,
   "id": "ecc7a1c9",
   "metadata": {
    "scrolled": true
   },
   "outputs": [],
   "source": []
  },
  {
   "cell_type": "code",
   "execution_count": null,
   "id": "4096aad6",
   "metadata": {},
   "outputs": [],
   "source": []
  },
  {
   "cell_type": "code",
   "execution_count": null,
   "id": "be2b79a1",
   "metadata": {},
   "outputs": [],
   "source": []
  }
 ],
 "metadata": {
  "kernelspec": {
   "display_name": "Python 3 (ipykernel)",
   "language": "python",
   "name": "python3"
  },
  "language_info": {
   "codemirror_mode": {
    "name": "ipython",
    "version": 3
   },
   "file_extension": ".py",
   "mimetype": "text/x-python",
   "name": "python",
   "nbconvert_exporter": "python",
   "pygments_lexer": "ipython3",
   "version": "3.9.12"
  }
 },
 "nbformat": 4,
 "nbformat_minor": 5
}
